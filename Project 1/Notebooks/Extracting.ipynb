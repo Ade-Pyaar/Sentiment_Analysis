{
 "cells": [
  {
   "cell_type": "code",
   "execution_count": 1,
   "metadata": {},
   "outputs": [],
   "source": [
    "#import the required libraries\n",
    "\n",
    "from twarc import Twarc\n",
    "import pandas as pd\n",
    "import json\n",
    "from textblob import TextBlob\n",
    "\n",
    "pd.set_option('display.max_rows', None)\n",
    "pd.set_option('display.max_columns', None)"
   ]
  },
  {
   "cell_type": "code",
   "execution_count": 2,
   "metadata": {},
   "outputs": [],
   "source": [
    "#load the twitter api credentials from a json file\n",
    "\n",
    "credentials = json.load(open('twitter_credentials.json', 'r'))\n",
    "\n",
    "consumer_key = credentials['CONSUMER_KEY']\n",
    "consumer_secret = credentials['CONSUMER_SECRET']\n",
    "access_token = credentials['ACCESS_TOKEN']\n",
    "access_secret = credentials['ACCESS_SECRET']"
   ]
  },
  {
   "cell_type": "code",
   "execution_count": 11,
   "metadata": {},
   "outputs": [],
   "source": [
    "#create an api path to twitter\n",
    "\n",
    "twitter = Twarc(consumer_key=consumer_key, consumer_secret=consumer_secret, access_token=access_token, access_token_secret=access_secret)"
   ]
  },
  {
   "cell_type": "code",
   "execution_count": 12,
   "metadata": {},
   "outputs": [],
   "source": [
    "#a list of the required hashtags to scrape\n",
    "\n",
    "hash_list = ['FUOLMS', 'FUOHEALTH', 'FUOHOSTEL', 'FUOONLINEEXAM', 'FUOPORTAL']"
   ]
  },
  {
   "cell_type": "code",
   "execution_count": 14,
   "metadata": {},
   "outputs": [],
   "source": [
    "#loop through hash_list and scrape tweets with the hashtag in it\n",
    "\n",
    "for tag in hash_list:\n",
    "    db_tweets = pd.DataFrame(columns=['tweet_text', 'tag'])                     #creates a pandas dataframe\n",
    "    for tweet in twitter.search('#' + tag):                     #serach the hashtag on twitter and loop through the results\n",
    "        tweet_text = tweet['full_text']                     #get the tweet text\n",
    "        tag = tweet['entities']['hashtags'][0]['text']                     #get the hashtag in the tweet\n",
    "\n",
    "        ith_tweet = [tweet_text, tag]                     #a list containing the information\n",
    "        db_tweets.loc[len(db_tweets)] = ith_tweet                     #put the details inside the dataframe\n",
    "\n",
    "    db_tweets.to_csv(tag +'_raw_data.csv', index=False)                     #save the dataframe"
   ]
  },
  {
   "cell_type": "code",
   "execution_count": null,
   "metadata": {},
   "outputs": [],
   "source": []
  },
  {
   "cell_type": "code",
   "execution_count": null,
   "metadata": {},
   "outputs": [],
   "source": [
    "lms = pd.read_csv('FOULMS_raw_data.csv')\n",
    "hostel = pd.read_csv('FUOHOSTEL_raw_data.csv')\n",
    "health = pd.read_csv('FUOHEALTH_raw_data.csv')\n",
    "exam = pd.read_csv('FUOONLINEEXAM_raw_data.csv')\n",
    "portal = pd.read_csv('FUOPORTAL_raw_data.csv')"
   ]
  },
  {
   "cell_type": "code",
   "execution_count": null,
   "metadata": {},
   "outputs": [],
   "source": [
    "lms = lms[:-1]\n",
    "hostel = hostel[:-1]\n",
    "health = health[:-1]\n",
    "exam = exam[:-1]\n",
    "portal = portal[:-1]"
   ]
  },
  {
   "cell_type": "code",
   "execution_count": null,
   "metadata": {},
   "outputs": [],
   "source": [
    "lms['tag'] = ['fuolms' for i in range(len(lms))]\n",
    "hostel['tag'] = ['fuohostel' for i in range(len(hostel))]\n",
    "health['tag'] = ['fuohealth' for i in range(len(health))]\n",
    "exam['tag'] = ['fuoexam' for i in range(len(exam))]\n",
    "portal['tag'] = ['fuoportal' for i in range(len(portal))]"
   ]
  },
  {
   "cell_type": "code",
   "execution_count": null,
   "metadata": {},
   "outputs": [],
   "source": [
    "total = [lms, hostel, health, exam, portal]\n",
    "result = pd.concat(total, ignore_index=True)"
   ]
  },
  {
   "cell_type": "code",
   "execution_count": null,
   "metadata": {},
   "outputs": [],
   "source": [
    "def get_tweet_polarity(tweet):\n",
    "    analysis = TextBlob(tweet)\n",
    "    \n",
    "    return analysis.sentiment.polarity"
   ]
  },
  {
   "cell_type": "code",
   "execution_count": null,
   "metadata": {},
   "outputs": [],
   "source": [
    "result['polarity'] = result['tweet_text'].apply(get_tweet_polarity)"
   ]
  },
  {
   "cell_type": "code",
   "execution_count": null,
   "metadata": {},
   "outputs": [],
   "source": []
  },
  {
   "cell_type": "code",
   "execution_count": null,
   "metadata": {},
   "outputs": [],
   "source": [
    "result.to_csv('Scraped_Data.csv', index=False)"
   ]
  }
 ],
 "metadata": {
  "kernelspec": {
   "display_name": "Python 3",
   "language": "python",
   "name": "python3"
  },
  "language_info": {
   "codemirror_mode": {
    "name": "ipython",
    "version": 3
   },
   "file_extension": ".py",
   "mimetype": "text/x-python",
   "name": "python",
   "nbconvert_exporter": "python",
   "pygments_lexer": "ipython3",
   "version": "3.8.3"
  }
 },
 "nbformat": 4,
 "nbformat_minor": 2
}
