{
 "cells": [
  {
   "cell_type": "code",
   "execution_count": 2,
   "metadata": {},
   "outputs": [],
   "source": [
    "#import the required libraries\n",
    "\n",
    "import tweepy\n",
    "import pandas as pd\n",
    "import json"
   ]
  },
  {
   "cell_type": "code",
   "execution_count": null,
   "metadata": {},
   "outputs": [],
   "source": []
  },
  {
   "cell_type": "code",
   "execution_count": 3,
   "metadata": {},
   "outputs": [],
   "source": [
    "#load the twitter api credentials from a json file\n",
    "\n",
    "credentials = json.load(open('twitter_credentials.json', 'r'))\n",
    "\n",
    "consumer_key = credentials['CONSUMER_KEY']\n",
    "consumer_secret = credentials['CONSUMER_SECRET']\n",
    "access_token = credentials['ACCESS_TOKEN']\n",
    "access_secret = credentials['ACCESS_SECRET']"
   ]
  },
  {
   "cell_type": "code",
   "execution_count": null,
   "metadata": {},
   "outputs": [],
   "source": []
  },
  {
   "cell_type": "code",
   "execution_count": 3,
   "metadata": {},
   "outputs": [],
   "source": [
    "# make a connection to the twitter api\n",
    "\n",
    "auth = tweepy.OAuthHandler(consumer_key, consumer_secret)\n",
    "auth.set_access_token(access_token, access_secret)\n",
    "\n",
    "twitter_api = tweepy.API(auth, wait_on_rate_limit=True)"
   ]
  },
  {
   "cell_type": "code",
   "execution_count": null,
   "metadata": {},
   "outputs": [],
   "source": []
  },
  {
   "cell_type": "code",
   "execution_count": 4,
   "metadata": {},
   "outputs": [],
   "source": [
    "# create a function that scrapes the tweets and save them into a csv file\n",
    "\n",
    "def scrape_tweets(text_query, count):\n",
    "    \n",
    "    try:\n",
    "        tweets = tweepy.Cursor(twitter_api.search, q='#'+text_query).items(count)\n",
    "        \n",
    "        tweet_list = [[tweet.text] for tweet in tweets]\n",
    "        \n",
    "        tweet_df = pd.DataFrame(tweet_list, columns=['Tweet_Text'])\n",
    "        \n",
    "        tweet_df.to_csv(f'{text_query}.csv', index=False)\n",
    "        \n",
    "        print('Done...')\n",
    "        \n",
    "    except BaseException as e:\n",
    "        print('Failed on_status,', str(e))"
   ]
  },
  {
   "cell_type": "code",
   "execution_count": null,
   "metadata": {},
   "outputs": [],
   "source": []
  },
  {
   "cell_type": "code",
   "execution_count": 5,
   "metadata": {},
   "outputs": [],
   "source": [
    "# create a list of the hashtag to scrape\n",
    "\n",
    "hash_list = ['endsars', 'endpolicebrutality', 'sarsmustend', 'endswat', 'swatmustend', 'prosars', 'endbadgovernance', 'wewantsars', 'sarsmuststay']"
   ]
  },
  {
   "cell_type": "code",
   "execution_count": null,
   "metadata": {},
   "outputs": [],
   "source": []
  },
  {
   "cell_type": "code",
   "execution_count": 6,
   "metadata": {},
   "outputs": [
    {
     "name": "stdout",
     "output_type": "stream",
     "text": [
      "Done...\n"
     ]
    }
   ],
   "source": [
    "# loop over hash_list and call the function on each hash_list value\n",
    "\n",
    "for hashtag in hash_list:\n",
    "    scrape_tweets(hashtag, 400)"
   ]
  },
  {
   "cell_type": "code",
   "execution_count": null,
   "metadata": {},
   "outputs": [],
   "source": []
  },
  {
   "cell_type": "code",
   "execution_count": null,
   "metadata": {},
   "outputs": [],
   "source": []
  },
  {
   "cell_type": "code",
   "execution_count": null,
   "metadata": {},
   "outputs": [],
   "source": [
    "endsars = pd.read_csv('Data/endsars.csv')\n",
    "prosars = pd.read_csv('Data/prosars.csv')\n",
    "sarsmuststay = pd.read_csv('Data/sarsmuststay.csv')\n",
    "wewantsars = pd.read_csv('Data/wewantsars.csv')\n",
    "endbrutality = pd.read_csv('Data/endpolicebrutality.csv')\n",
    "sarsmustend = pd.read_csv('Data/sarsmustend.csv')\n",
    "endswat = pd.read_csv('Data/endswat.csv')\n",
    "swatmustend = pd.read_csv('Data/swatmustend.csv')\n",
    "endbadgovernance = pd.read_csv('Data/endbadgovernance.csv')"
   ]
  },
  {
   "cell_type": "code",
   "execution_count": null,
   "metadata": {},
   "outputs": [],
   "source": [
    "total = [endsars, endbrutality, sarsmustend, endswat, swatmustend, prosars, endbadgovernance, wewantsars, sarsmuststay]"
   ]
  },
  {
   "cell_type": "code",
   "execution_count": null,
   "metadata": {},
   "outputs": [],
   "source": [
    "result = pd.concat(total, ignore_index=True)"
   ]
  },
  {
   "cell_type": "code",
   "execution_count": null,
   "metadata": {},
   "outputs": [],
   "source": []
  },
  {
   "cell_type": "code",
   "execution_count": null,
   "metadata": {},
   "outputs": [],
   "source": []
  },
  {
   "cell_type": "code",
   "execution_count": null,
   "metadata": {},
   "outputs": [],
   "source": []
  },
  {
   "cell_type": "code",
   "execution_count": null,
   "metadata": {},
   "outputs": [],
   "source": [
    "result.to_csv('Data.csv', index=False)"
   ]
  }
 ],
 "metadata": {
  "kernelspec": {
   "display_name": "Python 3",
   "language": "python",
   "name": "python3"
  },
  "language_info": {
   "codemirror_mode": {
    "name": "ipython",
    "version": 3
   },
   "file_extension": ".py",
   "mimetype": "text/x-python",
   "name": "python",
   "nbconvert_exporter": "python",
   "pygments_lexer": "ipython3",
   "version": "3.8.3"
  }
 },
 "nbformat": 4,
 "nbformat_minor": 2
}
